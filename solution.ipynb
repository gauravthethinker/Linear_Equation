{
 "cells": [
  {
   "cell_type": "code",
   "execution_count": 1,
   "metadata": {
    "id": "ZU6BuklLXRPi"
   },
   "outputs": [],
   "source": [
    "import numpy as np\n",
    "import pickle\n",
    "\n",
    "class LinearSystem:\n",
    "    def __init__(self, A):\n",
    "        self.A = A\n",
    "        self.factorization = None\n",
    "        \n",
    "    def solve(self, b):\n",
    "        if self.factorization is None:\n",
    "            # Compute the QR factorization of A\n",
    "            Q, R = np.linalg.qr(self.A)\n",
    "            self.factorization = (Q, R)\n",
    "        else:\n",
    "            Q, R = self.factorization\n",
    "        \n",
    "        # Solve the system using the QR factorization and the least-squares method\n",
    "        a = np.linalg.solve(R, np.dot(Q.T, b))\n",
    "        \n",
    "        return a\n",
    "    \n",
    "    def save(self, filename):\n",
    "        with open(filename, 'wb') as f:\n",
    "            pickle.dump(self, f)\n",
    "            \n",
    "    @classmethod\n",
    "    def load(cls, filename):\n",
    "        with open(filename, 'rb') as f:\n",
    "            obj = pickle.load(f)\n",
    "        return obj\n",
    "    \n",
    "    def residual_norm(self, a, b):\n",
    "        return np.linalg.norm(np.dot(self.A, a) - b)\n"
   ]
  },
  {
   "cell_type": "code",
   "execution_count": 2,
   "metadata": {
    "id": "MwRecrqAXS8y"
   },
   "outputs": [],
   "source": [
    "# Create a LinearSystem object with the constraint matrix A\n",
    "A = np.array([[1, 2], [3, 4], [5, 6]])\n",
    "ls = LinearSystem(A)\n",
    "\n",
    "# Solve the system for two different right-hand sides\n",
    "b1 = np.array([1, 2, 3])\n",
    "a1 = ls.solve(b1)\n",
    "residual_norm1 = ls.residual_norm(a1, b1)\n",
    "\n",
    "b2 = np.array([4, 5, 6])\n",
    "a2 = ls.solve(b2)\n",
    "residual_norm2 = ls.residual_norm(a2, b2)\n",
    "\n",
    "# Save the state of the LinearSystem object to a file\n",
    "ls.save('linear_system.pkl')\n",
    "\n",
    "# Load the saved LinearSystem object from the file\n",
    "ls2 = LinearSystem.load('linear_system.pkl')\n"
   ]
  },
  {
   "cell_type": "code",
   "execution_count": 3,
   "metadata": {
    "colab": {
     "base_uri": "https://localhost:8080/"
    },
    "id": "-_rs2t0SXVr6",
    "outputId": "d662268c-8f98-4ff5-f0c4-392e1a726210"
   },
   "outputs": [
    {
     "data": {
      "text/plain": [
       "1.1102230246251565e-16"
      ]
     },
     "execution_count": 3,
     "metadata": {},
     "output_type": "execute_result"
    }
   ],
   "source": [
    "residual_norm1"
   ]
  },
  {
   "cell_type": "code",
   "execution_count": 4,
   "metadata": {
    "colab": {
     "base_uri": "https://localhost:8080/"
    },
    "id": "3Lh7JK6_XZfv",
    "outputId": "cc70d1b7-6b46-4421-e643-26dffdae365f"
   },
   "outputs": [
    {
     "data": {
      "text/plain": [
       "1.7763568394002505e-15"
      ]
     },
     "execution_count": 4,
     "metadata": {},
     "output_type": "execute_result"
    }
   ],
   "source": [
    "residual_norm2"
   ]
  },
  {
   "cell_type": "code",
   "execution_count": null,
   "metadata": {
    "id": "Xfg7jypNIdoK"
   },
   "outputs": [],
   "source": []
  }
 ],
 "metadata": {
  "colab": {
   "provenance": []
  },
  "kernelspec": {
   "display_name": "Python 3 (ipykernel)",
   "language": "python",
   "name": "python3"
  },
  "language_info": {
   "codemirror_mode": {
    "name": "ipython",
    "version": 3
   },
   "file_extension": ".py",
   "mimetype": "text/x-python",
   "name": "python",
   "nbconvert_exporter": "python",
   "pygments_lexer": "ipython3",
   "version": "3.9.6"
  }
 },
 "nbformat": 4,
 "nbformat_minor": 1
}
