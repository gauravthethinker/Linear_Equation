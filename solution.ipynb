{
  "nbformat": 4,
  "nbformat_minor": 0,
  "metadata": {
    "colab": {
      "provenance": []
    },
    "kernelspec": {
      "name": "python3",
      "display_name": "Python 3"
    },
    "language_info": {
      "name": "python"
    }
  },
  "cells": [
    {
      "cell_type": "code",
      "execution_count": 1,
      "metadata": {
        "id": "ZU6BuklLXRPi"
      },
      "outputs": [],
      "source": [
        "import numpy as np\n",
        "import pickle\n",
        "\n",
        "class LinearSystem:\n",
        "    def __init__(self, A):\n",
        "        self.A = A\n",
        "        self.factorization = None\n",
        "        \n",
        "    def solve(self, b):\n",
        "        if self.factorization is None:\n",
        "            # Compute the QR factorization of A\n",
        "            Q, R = np.linalg.qr(self.A)\n",
        "            self.factorization = (Q, R)\n",
        "        else:\n",
        "            Q, R = self.factorization\n",
        "        \n",
        "        # Solve the system using the QR factorization and the least-squares method\n",
        "        a = np.linalg.solve(R, np.dot(Q.T, b))\n",
        "        \n",
        "        return a\n",
        "    \n",
        "    def save(self, filename):\n",
        "        with open(filename, 'wb') as f:\n",
        "            pickle.dump(self, f)\n",
        "            \n",
        "    @classmethod\n",
        "    def load(cls, filename):\n",
        "        with open(filename, 'rb') as f:\n",
        "            obj = pickle.load(f)\n",
        "        return obj\n",
        "    \n",
        "    def residual_norm(self, a, b):\n",
        "        return np.linalg.norm(np.dot(self.A, a) - b)\n"
      ]
    },
    {
      "cell_type": "code",
      "source": [
        "# Create a LinearSystem object with the constraint matrix A\n",
        "A = np.array([[1, 2], [3, 4], [5, 6]])\n",
        "ls = LinearSystem(A)\n",
        "\n",
        "# Solve the system for two different right-hand sides\n",
        "b1 = np.array([1, 2, 3])\n",
        "a1 = ls.solve(b1)\n",
        "residual_norm1 = ls.residual_norm(a1, b1)\n",
        "\n",
        "b2 = np.array([4, 5, 6])\n",
        "a2 = ls.solve(b2)\n",
        "residual_norm2 = ls.residual_norm(a2, b2)\n",
        "\n",
        "# Save the state of the LinearSystem object to a file\n",
        "ls.save('linear_system.pkl')\n",
        "\n",
        "# Load the saved LinearSystem object from the file\n",
        "ls2 = LinearSystem.load('linear_system.pkl')\n"
      ],
      "metadata": {
        "id": "MwRecrqAXS8y"
      },
      "execution_count": 2,
      "outputs": []
    },
    {
      "cell_type": "code",
      "source": [
        "residual_norm1"
      ],
      "metadata": {
        "colab": {
          "base_uri": "https://localhost:8080/"
        },
        "id": "-_rs2t0SXVr6",
        "outputId": "d662268c-8f98-4ff5-f0c4-392e1a726210"
      },
      "execution_count": 3,
      "outputs": [
        {
          "output_type": "execute_result",
          "data": {
            "text/plain": [
              "1.1102230246251565e-16"
            ]
          },
          "metadata": {},
          "execution_count": 3
        }
      ]
    },
    {
      "cell_type": "code",
      "source": [
        "residual_norm2"
      ],
      "metadata": {
        "colab": {
          "base_uri": "https://localhost:8080/"
        },
        "id": "3Lh7JK6_XZfv",
        "outputId": "cc70d1b7-6b46-4421-e643-26dffdae365f"
      },
      "execution_count": 4,
      "outputs": [
        {
          "output_type": "execute_result",
          "data": {
            "text/plain": [
              "4.070144838902081e-15"
            ]
          },
          "metadata": {},
          "execution_count": 4
        }
      ]
    },
    {
      "cell_type": "code",
      "source": [
        "a1"
      ],
      "metadata": {
        "colab": {
          "base_uri": "https://localhost:8080/"
        },
        "id": "Am6icT6HIdIf",
        "outputId": "e748d69f-02b7-4221-b74b-0712cb8efc10"
      },
      "execution_count": 5,
      "outputs": [
        {
          "output_type": "execute_result",
          "data": {
            "text/plain": [
              "array([1.50129554e-16, 5.00000000e-01])"
            ]
          },
          "metadata": {},
          "execution_count": 5
        }
      ]
    },
    {
      "cell_type": "code",
      "source": [],
      "metadata": {
        "id": "Xfg7jypNIdoK"
      },
      "execution_count": null,
      "outputs": []
    }
  ]
}