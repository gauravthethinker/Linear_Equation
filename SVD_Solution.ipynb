{
 "cells": [
  {
   "cell_type": "code",
   "execution_count": 27,
   "id": "fda30826",
   "metadata": {},
   "outputs": [],
   "source": [
    "import numpy as np\n",
    "from numpy import zeros\n",
    "from numpy import diag\n",
    "\n",
    "outfile = 'data.npy'\n",
    "\n",
    "class linear_eqation_class:\n",
    "    def __init__(self, A):\n",
    "        self.A = A\n",
    "    \n",
    "    \n",
    "    def do_svd_decompostion(self):\n",
    "        U, sigma, VT = np.linalg.svd(self.A, full_matrices=False)\n",
    "\n",
    "        # reciprocals of sigma\n",
    "        d = 1.0 / sigma\n",
    "        # create m x n D matrix\n",
    "        D = zeros(self.A.shape)\n",
    "        #print(D)\n",
    "        # populate D with n x n diagonal matrix\n",
    "        D[:self.A.shape[1], :self.A.shape[1]] = diag(d)\n",
    "        #print(D)\n",
    "        \n",
    "        # calculate pseudoinverse\n",
    "        B = VT.T.dot(D.T).dot(U.T)\n",
    "        print(B)\n",
    "        np.save(outfile, B)\n",
    "    \n",
    "    def do_least_sqaure(self,matrix_b):\n",
    "        pseudoinverse_B = np.load(outfile)\n",
    "        x = pseudoinverse_B * matrix_b # Save this data into a file\n",
    "        print('\\nLeast-squares solution x:')\n",
    "        print(x)\n",
    "\n",
    "        # Error of solution ||A*x-b||**2\n",
    "        eps = np.linalg.norm(matrix_b-self.A*x,ord=2)**2\n",
    "        print('\\nNorm value: ||b-A*x|| =', eps)"
   ]
  },
  {
   "cell_type": "code",
   "execution_count": 28,
   "id": "4d31aab6",
   "metadata": {},
   "outputs": [],
   "source": [
    "#Create a random 4X4 array\n",
    "#a_array = np.array([[1,0,-1,2],[1,1,1,-1],[0,-1,-2,3],[5,2,-1,4]])\n",
    "a_array = np.array([[1, 2], [2, 2]])\n",
    "b_array = np.array([-1, 2])\n",
    "\n"
   ]
  },
  {
   "cell_type": "code",
   "execution_count": 29,
   "id": "50bb5c26",
   "metadata": {},
   "outputs": [
    {
     "name": "stdout",
     "output_type": "stream",
     "text": [
      "[[-1.   1. ]\n",
      " [ 1.  -0.5]]\n",
      "\n",
      "Least-squares solution x:\n",
      "[[ 1.  2.]\n",
      " [-1. -1.]]\n",
      "\n",
      "Norm value: ||b-A*x|| = 23.46585609973067\n"
     ]
    }
   ],
   "source": [
    "linear_eqation_class_obj = linear_eqation_class(a_array)\n",
    "linear_eqation_class_obj.do_svd_decompostion()\n",
    "linear_eqation_class_obj.do_least_sqaure(b_array)"
   ]
  },
  {
   "cell_type": "code",
   "execution_count": null,
   "id": "aaaffddf",
   "metadata": {},
   "outputs": [],
   "source": []
  }
 ],
 "metadata": {
  "kernelspec": {
   "display_name": "Python 3 (ipykernel)",
   "language": "python",
   "name": "python3"
  },
  "language_info": {
   "codemirror_mode": {
    "name": "ipython",
    "version": 3
   },
   "file_extension": ".py",
   "mimetype": "text/x-python",
   "name": "python",
   "nbconvert_exporter": "python",
   "pygments_lexer": "ipython3",
   "version": "3.9.6"
  }
 },
 "nbformat": 4,
 "nbformat_minor": 5
}
