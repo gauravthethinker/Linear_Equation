{
 "cells": [
  {
   "cell_type": "code",
   "execution_count": 41,
   "id": "77e0f886",
   "metadata": {},
   "outputs": [],
   "source": [
    "import numpy as np\n",
    "from numpy import zeros\n",
    "from numpy import diag\n",
    "\n",
    "outfile = 'data.npy'\n",
    "\n",
    "class linear_eqation_class:\n",
    "    def __init__(self, A):\n",
    "        self.A = A\n",
    "    \n",
    "    \n",
    "    def do_svd_decompostion(self):\n",
    "        U, sigma, VT = np.linalg.svd(self.A, full_matrices=False)\n",
    "\n",
    "        # reciprocals of sigma\n",
    "        d = 1.0 / sigma\n",
    "        # create m x n D matrix\n",
    "        D = zeros(self.A.shape)\n",
    "        #print(D)\n",
    "        # populate D with n x n diagonal matrix\n",
    "        D[:self.A.shape[1], :self.A.shape[1]] = diag(d)\n",
    "        #print(D)\n",
    "        \n",
    "        # calculate pseudoinverse\n",
    "        B = VT.T.dot(D.T).dot(U.T)\n",
    "        #print(B)\n",
    "        np.save(outfile, B)\n",
    "    \n",
    "    def do_least_sqaure(self,matrix_b):\n",
    "        pseudoinverse_B = np.load(outfile)\n",
    "        x = pseudoinverse_B * matrix_b \n",
    "        print('\\nLeast-squares solution x:')\n",
    "        print(x)\n",
    "\n",
    "        # Error of solution ||A*x-b||**2\n",
    "        eps = np.linalg.norm(matrix_b-self.A*x,ord=2)**2\n",
    "        print('\\nNorm value: ||b-A*x||**2 =', eps)"
   ]
  },
  {
   "cell_type": "code",
   "execution_count": 42,
   "id": "6ffef1b1",
   "metadata": {},
   "outputs": [],
   "source": [
    "# Create a array\n",
    "a_array = np.array([[1, 2], [2, 2]])\n",
    "b_array = np.array([-1, 2])\n",
    "\n"
   ]
  },
  {
   "cell_type": "code",
   "execution_count": 43,
   "id": "574d412e",
   "metadata": {},
   "outputs": [
    {
     "name": "stdout",
     "output_type": "stream",
     "text": [
      "\n",
      "Least-squares solution x:\n",
      "[[ 1.  2.]\n",
      " [-1. -1.]]\n",
      "\n",
      "Norm value: ||b-A*x||**2 = 23.46585609973067\n"
     ]
    }
   ],
   "source": [
    "linear_eqation_class_obj = linear_eqation_class(a_array)\n",
    "linear_eqation_class_obj.do_svd_decompostion()\n",
    "linear_eqation_class_obj.do_least_sqaure(b_array)"
   ]
  },
  {
   "cell_type": "code",
   "execution_count": 44,
   "id": "153893f6",
   "metadata": {},
   "outputs": [],
   "source": [
    "a_array = np.array([[1,0,-1,2],[1,1,1,-1],[0,-1,-2,3],[5,2,-1,4]])\n",
    "b_array = np.array([-1, 2, -3, 1])"
   ]
  },
  {
   "cell_type": "code",
   "execution_count": 45,
   "id": "4d858853",
   "metadata": {},
   "outputs": [
    {
     "name": "stdout",
     "output_type": "stream",
     "text": [
      "\n",
      "Least-squares solution x:\n",
      "[[-1.20392298e+15  2.24537868e+15 -5.76133239e+14 -4.65322464e+14]\n",
      " [ 8.49632626e+14  1.39878404e+15 -2.27846479e+15  3.00481211e+13]\n",
      " [ 1.91250369e+15 -9.53370413e+15  6.28532929e+15  1.33587115e+15]\n",
      " [ 1.55821333e+15 -5.88954140e+15  3.43073127e+15  9.00596807e+14]]\n",
      "\n",
      "Norm value: ||b-A*x||**2 = 3.0729036423169622e+32\n"
     ]
    }
   ],
   "source": [
    "linear_eqation_class_obj = linear_eqation_class(a_array)\n",
    "linear_eqation_class_obj.do_svd_decompostion()\n",
    "linear_eqation_class_obj.do_least_sqaure(b_array)"
   ]
  },
  {
   "cell_type": "code",
   "execution_count": null,
   "id": "5fef0731",
   "metadata": {},
   "outputs": [],
   "source": []
  }
 ],
 "metadata": {
  "kernelspec": {
   "display_name": "Python 3 (ipykernel)",
   "language": "python",
   "name": "python3"
  },
  "language_info": {
   "codemirror_mode": {
    "name": "ipython",
    "version": 3
   },
   "file_extension": ".py",
   "mimetype": "text/x-python",
   "name": "python",
   "nbconvert_exporter": "python",
   "pygments_lexer": "ipython3",
   "version": "3.9.6"
  }
 },
 "nbformat": 4,
 "nbformat_minor": 5
}
